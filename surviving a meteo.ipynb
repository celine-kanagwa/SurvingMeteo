{
 "cells": [
  {
   "cell_type": "code",
   "execution_count": null,
   "id": "07b6fe21",
   "metadata": {},
   "outputs": [],
   "source": [
    "import numpy as np \n",
    "import pandas as pd \n",
    "import tensorflow as tf\n",
    "import matplotlib.pyplot as plt\n",
    "from tensorflow.keras import Sequential\n",
    "from tensorflow.keras.layers import Dense \n"
   ]
  },
  {
   "cell_type": "markdown",
   "id": "31f9063e",
   "metadata": {},
   "source": [
    "#### 2.Loading our data"
   ]
  },
  {
   "cell_type": "code",
   "execution_count": 10,
   "id": "c965ab89",
   "metadata": {},
   "outputs": [],
   "source": [
    "data = 'E:/AIfellowship/a.Notes/1. Presentation/Month2/Week 6/dataset/orbit.csv'\n",
    "orbit = pd.read_csv(data)"
   ]
  },
  {
   "cell_type": "code",
   "execution_count": 11,
   "id": "3fc6012e",
   "metadata": {},
   "outputs": [
    {
     "data": {
      "text/plain": [
       "(2000, 2)"
      ]
     },
     "execution_count": 11,
     "metadata": {},
     "output_type": "execute_result"
    }
   ],
   "source": [
    "orbit.shape "
   ]
  },
  {
   "cell_type": "code",
   "execution_count": 12,
   "id": "f55ce557",
   "metadata": {},
   "outputs": [
    {
     "data": {
      "text/html": [
       "<div>\n",
       "<style scoped>\n",
       "    .dataframe tbody tr th:only-of-type {\n",
       "        vertical-align: middle;\n",
       "    }\n",
       "\n",
       "    .dataframe tbody tr th {\n",
       "        vertical-align: top;\n",
       "    }\n",
       "\n",
       "    .dataframe thead th {\n",
       "        text-align: right;\n",
       "    }\n",
       "</style>\n",
       "<table border=\"1\" class=\"dataframe\">\n",
       "  <thead>\n",
       "    <tr style=\"text-align: right;\">\n",
       "      <th></th>\n",
       "      <th>time_steps</th>\n",
       "      <th>y</th>\n",
       "    </tr>\n",
       "  </thead>\n",
       "  <tbody>\n",
       "    <tr>\n",
       "      <th>0</th>\n",
       "      <td>-10.000000</td>\n",
       "      <td>100.000000</td>\n",
       "    </tr>\n",
       "    <tr>\n",
       "      <th>1</th>\n",
       "      <td>-9.989995</td>\n",
       "      <td>99.800000</td>\n",
       "    </tr>\n",
       "    <tr>\n",
       "      <th>2</th>\n",
       "      <td>-9.979990</td>\n",
       "      <td>99.600200</td>\n",
       "    </tr>\n",
       "    <tr>\n",
       "      <th>3</th>\n",
       "      <td>-9.969985</td>\n",
       "      <td>99.400601</td>\n",
       "    </tr>\n",
       "    <tr>\n",
       "      <th>4</th>\n",
       "      <td>-9.959980</td>\n",
       "      <td>99.201201</td>\n",
       "    </tr>\n",
       "  </tbody>\n",
       "</table>\n",
       "</div>"
      ],
      "text/plain": [
       "   time_steps           y\n",
       "0  -10.000000  100.000000\n",
       "1   -9.989995   99.800000\n",
       "2   -9.979990   99.600200\n",
       "3   -9.969985   99.400601\n",
       "4   -9.959980   99.201201"
      ]
     },
     "execution_count": 12,
     "metadata": {},
     "output_type": "execute_result"
    }
   ],
   "source": [
    "orbit.head()"
   ]
  },
  {
   "cell_type": "code",
   "execution_count": 13,
   "id": "80ca3e0e",
   "metadata": {},
   "outputs": [],
   "source": [
    "time_steps = orbit['time_steps'].to_numpy()\n",
    "y_positions = orbit['y'].to_numpy()"
   ]
  },
  {
   "cell_type": "markdown",
   "id": "6f1629e1",
   "metadata": {},
   "source": [
    "####  3.Define a model  "
   ]
  },
  {
   "cell_type": "code",
   "execution_count": 14,
   "id": "d43664d4",
   "metadata": {},
   "outputs": [],
   "source": [
    "#instantiate a sequential model \n",
    "model = Sequential()\n",
    "\n",
    "# add a Dense layer with 50 neurons and an input of 1 neuron \n",
    "model.add (Dense(50, input_shape=(1,), activation= 'relu'))\n",
    "# add two denser layers with 50 neurons and an input of 1 neuron \n",
    "model.add(Dense(50,activation='relu'))\n",
    "model.add(Dense(50,activation='relu'))\n",
    "\n",
    "#end your model with a dense layer and no activation \n",
    "model.add(Dense(1))"
   ]
  },
  {
   "cell_type": "code",
   "execution_count": 15,
   "id": "fcf5734e",
   "metadata": {},
   "outputs": [
    {
     "name": "stdout",
     "output_type": "stream",
     "text": [
      "Model: \"sequential_1\"\n",
      "_________________________________________________________________\n",
      " Layer (type)                Output Shape              Param #   \n",
      "=================================================================\n",
      " dense_4 (Dense)             (None, 50)                100       \n",
      "                                                                 \n",
      " dense_5 (Dense)             (None, 50)                2550      \n",
      "                                                                 \n",
      " dense_6 (Dense)             (None, 50)                2550      \n",
      "                                                                 \n",
      " dense_7 (Dense)             (None, 1)                 51        \n",
      "                                                                 \n",
      "=================================================================\n",
      "Total params: 5,251\n",
      "Trainable params: 5,251\n",
      "Non-trainable params: 0\n",
      "_________________________________________________________________\n"
     ]
    }
   ],
   "source": [
    "# summarize your model \n",
    "model.summary()"
   ]
  },
  {
   "cell_type": "markdown",
   "id": "6d10b57f",
   "metadata": {},
   "source": [
    "#### 4.Compile keras model "
   ]
  },
  {
   "cell_type": "code",
   "execution_count": 16,
   "id": "3c30b61f",
   "metadata": {},
   "outputs": [],
   "source": [
    "# Compile your model\n",
    "model.compile(optimizer='adam', loss='mse')"
   ]
  },
  {
   "cell_type": "markdown",
   "id": "f9a7fa6d",
   "metadata": {},
   "source": [
    "#### 5.Training "
   ]
  },
  {
   "cell_type": "code",
   "execution_count": 17,
   "id": "23875469",
   "metadata": {
    "scrolled": true
   },
   "outputs": [
    {
     "name": "stdout",
     "output_type": "stream",
     "text": [
      "Training started..., this can take a while:\n",
      "Epoch 1/30\n",
      "63/63 [==============================] - 1s 3ms/step - loss: 1656.5138\n",
      "Epoch 2/30\n",
      "63/63 [==============================] - 0s 3ms/step - loss: 369.4563\n",
      "Epoch 3/30\n",
      "63/63 [==============================] - 0s 2ms/step - loss: 142.4124\n",
      "Epoch 4/30\n",
      "63/63 [==============================] - 0s 3ms/step - loss: 122.2276\n",
      "Epoch 5/30\n",
      "63/63 [==============================] - 0s 4ms/step - loss: 98.1360\n",
      "Epoch 6/30\n",
      "63/63 [==============================] - 0s 3ms/step - loss: 68.7758\n",
      "Epoch 7/30\n",
      "63/63 [==============================] - 0s 3ms/step - loss: 43.7894\n",
      "Epoch 8/30\n",
      "63/63 [==============================] - 0s 3ms/step - loss: 25.8206\n",
      "Epoch 9/30\n",
      "63/63 [==============================] - 0s 4ms/step - loss: 14.8401\n",
      "Epoch 10/30\n",
      "63/63 [==============================] - 0s 5ms/step - loss: 8.3577\n",
      "Epoch 11/30\n",
      "63/63 [==============================] - 0s 3ms/step - loss: 5.8004\n",
      "Epoch 12/30\n",
      "63/63 [==============================] - 0s 3ms/step - loss: 3.7513\n",
      "Epoch 13/30\n",
      "63/63 [==============================] - 0s 4ms/step - loss: 2.5491\n",
      "Epoch 14/30\n",
      "63/63 [==============================] - 0s 3ms/step - loss: 1.9934\n",
      "Epoch 15/30\n",
      "63/63 [==============================] - 0s 5ms/step - loss: 1.3132\n",
      "Epoch 16/30\n",
      "63/63 [==============================] - 0s 4ms/step - loss: 1.0321\n",
      "Epoch 17/30\n",
      "63/63 [==============================] - 0s 3ms/step - loss: 0.8507\n",
      "Epoch 18/30\n",
      "63/63 [==============================] - 0s 3ms/step - loss: 0.7378\n",
      "Epoch 19/30\n",
      "63/63 [==============================] - 0s 3ms/step - loss: 0.7166\n",
      "Epoch 20/30\n",
      "63/63 [==============================] - 0s 3ms/step - loss: 0.4315\n",
      "Epoch 21/30\n",
      "63/63 [==============================] - 0s 3ms/step - loss: 0.4350\n",
      "Epoch 22/30\n",
      "63/63 [==============================] - 0s 3ms/step - loss: 0.4836\n",
      "Epoch 23/30\n",
      "63/63 [==============================] - 0s 3ms/step - loss: 0.2877\n",
      "Epoch 24/30\n",
      "63/63 [==============================] - 0s 3ms/step - loss: 0.2744\n",
      "Epoch 25/30\n",
      "63/63 [==============================] - 0s 3ms/step - loss: 0.2521\n",
      "Epoch 26/30\n",
      "63/63 [==============================] - 0s 3ms/step - loss: 0.2070\n",
      "Epoch 27/30\n",
      "63/63 [==============================] - 0s 3ms/step - loss: 0.1716\n",
      "Epoch 28/30\n",
      "63/63 [==============================] - 0s 3ms/step - loss: 0.1538\n",
      "Epoch 29/30\n",
      "63/63 [==============================] - 0s 3ms/step - loss: 0.1299\n",
      "Epoch 30/30\n",
      "63/63 [==============================] - 0s 3ms/step - loss: 0.1494\n"
     ]
    },
    {
     "data": {
      "text/plain": [
       "<keras.callbacks.History at 0x25d45894d00>"
      ]
     },
     "execution_count": 17,
     "metadata": {},
     "output_type": "execute_result"
    }
   ],
   "source": [
    "print('Training started..., this can take a while:')\n",
    "\n",
    "# Fit your model on your data for 30 epochs\n",
    "model.fit(time_steps, y_positions, epochs=30)"
   ]
  },
  {
   "cell_type": "markdown",
   "id": "05c2ea88",
   "metadata": {},
   "source": [
    "#### 5- Evaluating\n"
   ]
  },
  {
   "cell_type": "code",
   "execution_count": 18,
   "id": "e2693ee4",
   "metadata": {},
   "outputs": [
    {
     "name": "stdout",
     "output_type": "stream",
     "text": [
      "63/63 [==============================] - 0s 2ms/step - loss: 0.1775\n",
      "Final loss value: 0.17754383385181427\n"
     ]
    }
   ],
   "source": [
    "# Evaluate your model\n",
    "print(\"Final loss value:\", model.evaluate(time_steps, y_positions))"
   ]
  },
  {
   "cell_type": "markdown",
   "id": "07ef2ce6",
   "metadata": {},
   "source": [
    "### 6-Predicting the orbit!\n"
   ]
  },
  {
   "cell_type": "code",
   "execution_count": 1,
   "id": "f864631d",
   "metadata": {},
   "outputs": [],
   "source": [
    "def plot_orbit(model_preds):\n",
    "    axeslim = int(len(model_preds) / 2)\n",
    "    plt.plot(np.arange(-axeslim, axeslim + 1),np.arange(-axeslim, axeslim + 1) ** 2,\n",
    "             color=\"mediumslateblue\")\n",
    "    plt.plot(np.arange(-axeslim, axeslim + 1),model_preds,color=\"orange\")\n",
    "    plt.axis([-40, 41, -5, 550])\n",
    "    plt.legend([\"Scientist's Orbit\", 'Your orbit'],loc=\"lower left\")\n",
    "    plt.title(\"Predicted orbit vs Scientist's Orbit\")"
   ]
  },
  {
   "cell_type": "code",
   "execution_count": 20,
   "id": "5efe7086",
   "metadata": {},
   "outputs": [
    {
     "data": {
      "image/png": "[encoded data removed]",
      "text/plain": [
       "<Figure size 432x288 with 1 Axes>"
      ]
     },
     "metadata": {
      "needs_background": "light"
     },
     "output_type": "display_data"
    }
   ],
   "source": [
    "# Predict the twenty minutes orbit\n",
    "twenty_min_orbit = model.predict(np.arange(-10, 11))\n",
    "\n",
    "# Plot the twenty minute orbit\n",
    "plot_orbit(twenty_min_orbit)"
   ]
  },
  {
   "cell_type": "code",
   "execution_count": 21,
   "id": "b6622968",
   "metadata": {},
   "outputs": [
    {
     "data": {
      "image/png": "[encoded data removed]",
      "text/plain": [
       "<Figure size 432x288 with 1 Axes>"
      ]
     },
     "metadata": {
      "needs_background": "light"
     },
     "output_type": "display_data"
    }
   ],
   "source": [
    "# Predict the eighty minute orbit\n",
    "eighty_min_orbit = model.predict(np.arange(-40, 41))\n",
    "\n",
    "# Plot the eighty minute orbit\n",
    "plot_orbit(eighty_min_orbit)"
   ]
  },
  {
   "cell_type": "code",
   "execution_count": null,
   "id": "751e9c77",
   "metadata": {},
   "outputs": [],
   "source": []
  }
 ],
 "metadata": {
  "kernelspec": {
   "display_name": "Python 3 (ipykernel)",
   "language": "python",
   "name": "python3"
  },
  "language_info": {
   "codemirror_mode": {
    "name": "ipython",
    "version": 3
   },
   "file_extension": ".py",
   "mimetype": "text/x-python",
   "name": "python",
   "nbconvert_exporter": "python",
   "pygments_lexer": "ipython3",
   "version": "3.9.7"
  }
 },
 "nbformat": 4,
 "nbformat_minor": 5
}
